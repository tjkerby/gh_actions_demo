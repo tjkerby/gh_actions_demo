{
  "cells": [
    {
      "cell_type": "code",
      "execution_count": null,
      "metadata": {},
      "outputs": [],
      "source": [
        "import math\n",
        "x = 1 + 2\n",
        "print('Hello from a notebook!')\n"
      ]
    },
    {
      "cell_type": "markdown",
      "metadata": {},
      "source": [
        "This notebook is here to show nbqa + ruff linting. Remove the unused `import math` to make the linter pass."
      ]
    }
  ],
  "metadata": {
    "language_info": {
      "name": "python",
      "version": "3.11"
    }
  },
  "nbformat": 4,
  "nbformat_minor": 5
}
